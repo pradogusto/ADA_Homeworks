{
 "cells": [
  {
   "cell_type": "markdown",
   "metadata": {},
   "source": [
    "First, we import the packages needed.\n",
    "We create a column \"cols\" with the attributes that we need to answer the questions below.\n",
    "We creat a dataFrame ALL_DATA that will contain all the data about the students that we will collect and use it to answer the questions. The URL \"url\" corresponds to the URL from which we will recover the students."
   ]
  },
  {
   "cell_type": "code",
   "execution_count": 55,
   "metadata": {
    "collapsed": true
   },
   "outputs": [],
   "source": [
    "import requests\n",
    "import pandas as pd \n",
    "from bs4 import BeautifulSoup\n",
    "\n",
    "# Import packages for the test stastic\n",
    "import scipy.stats as stats\n",
    "import math\n",
    "import numpy as np\n",
    "\n",
    "url = 'http://isa.epfl.ch/imoniteur_ISAP/!GEDPUBLICREPORTS.html?'\n",
    "cols = ['Période académique', 'Période pédagogique', 'Civilité', 'Nom et prénom']\n",
    "ALL_DATA = pd.DataFrame(columns=cols)"
   ]
  },
  {
   "cell_type": "markdown",
   "metadata": {},
   "source": [
    "We define the function arrange_student that takes as input a student in argument as a list of tags and then returns a dictionary with the columns that we are interested in (civility, name and first name) \n",
    "\n",
    "Example :\n",
    "\n",
    "Input : \n",
    "\n",
    "[<td style=\"white-space:nowrap\">Monsieur</td>, <td style=\"white-space:nowrap\">Albrecht Pablo</td>, <td style=\"white-space:nowrap\"></td>, <td style=\"white-space:nowrap\"></td>, <td style=\"white-space:nowrap\"></td>, <td style=\"white-space:nowrap\"></td>, <td style=\"white-space:nowrap\"></td>, <td style=\"white-space:nowrap\">Présent</td>, <td style=\"white-space:nowrap\"></td>, <td style=\"white-space:nowrap\"></td>, <td>212726</td>, <td style=\"white-space:nowrap\"></td>]\n",
    "\n",
    "Output : \n",
    "\n",
    "{'Civilité': 'Monsieur', 'Nom et prénom': 'Albrecht\\xa0Pablo'}\n",
    "\n"
   ]
  },
  {
   "cell_type": "code",
   "execution_count": 56,
   "metadata": {
    "collapsed": true
   },
   "outputs": [],
   "source": [
    "def arrange_student(student_tags) : \n",
    "    \n",
    "    student = {}\n",
    "    \n",
    "    if(len(student_tags)!=0) : \n",
    "        \n",
    "        student = {}\n",
    "    \n",
    "        student['Civilité'] = student_tags[0].contents[0]\n",
    "        student['Nom et prénom'] = student_tags[1].contents[0]\n",
    "    \n",
    "    return student\n"
   ]
  },
  {
   "cell_type": "markdown",
   "metadata": {},
   "source": [
    "On the next cell, we recover the values with which we encoded the 4 filters present in the page.\n",
    "We stock them in a dictionary named \"filters\", where the keys are the names of the filters (ex: ww_x_PERIODE_ACAD). The values are stocked in others dictionaries where the keys are all the possible values that the filter can take and the values of these keys are their encoding.\n",
    "(ex: 2012-2013 => 123456101, '2012-2013' is the key and '123456101' is its corresponding value)."
   ]
  },
  {
   "cell_type": "code",
   "execution_count": 57,
   "metadata": {
    "collapsed": false
   },
   "outputs": [],
   "source": [
    "url1 = 'http://isa.epfl.ch/imoniteur_ISAP/!GEDPUBLICREPORTS.filter?ww_i_reportModel=133685247'\n",
    "r1 = requests.get(url1)\n",
    "soup1 = BeautifulSoup(r1.content,\"lxml\")\n",
    "\n",
    "filters = {}\n",
    "\n",
    "for filt in soup1.findAll(\"select\"):\n",
    "    \n",
    "    filter_values = {}\n",
    "        \n",
    "    for option in filt.findAll(\"option\"):\n",
    "       \n",
    "        if(option['value']!='null') : #in case that the first element is null\n",
    "            filter_values[option.contents[0]] = option['value']\n",
    "    \n",
    "    filter_values[''] = 'null'\n",
    "    filters[filt['name']] = filter_values\n"
   ]
  },
  {
   "cell_type": "code",
   "execution_count": 58,
   "metadata": {
    "collapsed": false
   },
   "outputs": [
    {
     "data": {
      "text/plain": [
       "{'ww_x_HIVERETE': {'': 'null',\n",
       "  \"Semestre d'automne\": '2936286',\n",
       "  'Semestre de printemps': '2936295'},\n",
       " 'ww_x_PERIODE_ACAD': {'': 'null',\n",
       "  '2007-2008': '978181',\n",
       "  '2008-2009': '978187',\n",
       "  '2009-2010': '978195',\n",
       "  '2010-2011': '39486325',\n",
       "  '2011-2012': '123455150',\n",
       "  '2012-2013': '123456101',\n",
       "  '2013-2014': '213637754',\n",
       "  '2014-2015': '213637922',\n",
       "  '2015-2016': '213638028',\n",
       "  '2016-2017': '355925344'},\n",
       " 'ww_x_PERIODE_PEDAGO': {'': 'null',\n",
       "  'Bachelor semestre 1': '249108',\n",
       "  'Bachelor semestre 2': '249114',\n",
       "  'Bachelor semestre 3': '942155',\n",
       "  'Bachelor semestre 4': '942163',\n",
       "  'Bachelor semestre 5': '942120',\n",
       "  'Bachelor semestre 5b': '2226768',\n",
       "  'Bachelor semestre 6': '942175',\n",
       "  'Bachelor semestre 6b': '2226785',\n",
       "  'Master semestre 1': '2230106',\n",
       "  'Master semestre 2': '942192',\n",
       "  'Master semestre 3': '2230128',\n",
       "  'Master semestre 4': '2230140',\n",
       "  'Mineur semestre 1': '2335667',\n",
       "  'Mineur semestre 2': '2335676',\n",
       "  'Mise à niveau': '2063602308',\n",
       "  'Projet Master automne': '249127',\n",
       "  'Projet Master printemps': '3781783',\n",
       "  'Semestre automne': '953159',\n",
       "  'Semestre printemps': '2754553',\n",
       "  'Stage automne 3ème année': '953137',\n",
       "  'Stage automne 4ème année': '2226616',\n",
       "  'Stage printemps 3ème année': '983606',\n",
       "  'Stage printemps 4ème année': '2226626',\n",
       "  'Stage printemps master': '2227132'},\n",
       " 'ww_x_UNITE_ACAD': {'': 'null',\n",
       "  'Architecture': '942293',\n",
       "  'Chimie et génie chimique': '246696',\n",
       "  'Cours de mathématiques spéciales': '943282',\n",
       "  'EME (EPFL Middle East)': '637841336',\n",
       "  'Génie civil': '942623',\n",
       "  'Génie mécanique': '944263',\n",
       "  'Génie électrique et électronique ': '943936',\n",
       "  'Humanités digitales': '2054839157',\n",
       "  'Informatique': '249847',\n",
       "  'Ingénierie financière': '120623110',\n",
       "  'Management de la technologie': '946882',\n",
       "  'Mathématiques': '944590',\n",
       "  'Microtechnique': '945244',\n",
       "  'Physique': '945571',\n",
       "  'Science et génie des matériaux': '944917',\n",
       "  \"Sciences et ingénierie de l'environnement\": '942953',\n",
       "  'Sciences et technologies du vivant': '945901',\n",
       "  'Section FCUE': '1574548993',\n",
       "  'Systèmes de communication': '946228'}}"
      ]
     },
     "execution_count": 58,
     "metadata": {},
     "output_type": "execute_result"
    }
   ],
   "source": [
    "#Values of filters\n",
    "filters"
   ]
  },
  {
   "cell_type": "markdown",
   "metadata": {},
   "source": [
    "Then, we define the fix parameters that we pass through the URL (ww_i_reportModel and ww_i_reportModelXsl found thanks to Postman) and we define a new function get_students_bysemester that returns all the students that have already been in semester \"periode_pedagogique\" for each years."
   ]
  },
  {
   "cell_type": "code",
   "execution_count": 59,
   "metadata": {
    "collapsed": true
   },
   "outputs": [],
   "source": [
    "#Parameters used for filters\n",
    "fixed_params = {}\n",
    "fixed_params['ww_x_GPS'] = '-1'\n",
    "fixed_params['ww_i_reportModel'] = '133685247'\n",
    "fixed_params['ww_i_reportModelXsl'] = '133685270'\n",
    "fixed_params['ww_x_UNITE_ACAD'] = filters['ww_x_UNITE_ACAD']['Informatique']\n",
    "\n",
    "\n",
    "def get_students_bysemester(periode_pedagogique) :\n",
    "\n",
    "    students = []\n",
    "    \n",
    "    for periode_academique in filters['ww_x_PERIODE_ACAD'].keys() : \n",
    "\n",
    "        if(periode_academique != '') :\n",
    "            param = fixed_params.copy()\n",
    "            param['ww_x_PERIODE_PEDAGO'] = filters['ww_x_PERIODE_PEDAGO'][periode_pedagogique]\n",
    "            param['ww_x_PERIODE_ACAD'] = filters['ww_x_PERIODE_ACAD'][periode_academique]\n",
    "            \n",
    "            req_b = requests.get(url,params=param)\n",
    "            soup_b = BeautifulSoup(req_b.content,\"lxml\")\n",
    "            \n",
    "            for row in soup_b.find('table').contents[2:] : #First line corresponds ti the headers, so we begin the loop from teh second line\n",
    "       \n",
    "                s = arrange_student(row.findAll('td'))\n",
    "                s['Période académique'] = periode_academique\n",
    "                s['Période pédagogique'] = periode_pedagogique\n",
    "                students.append(s)\n",
    "            \n",
    "                \n",
    "    return students"
   ]
  },
  {
   "cell_type": "code",
   "execution_count": 60,
   "metadata": {
    "collapsed": false
   },
   "outputs": [],
   "source": [
    "#We recover the students thanks to the function defined above\n",
    "student_bachelor1 = get_students_bysemester('Bachelor semestre 1')\n",
    "student_bachelor5 = get_students_bysemester('Bachelor semestre 5')\n",
    "student_bachelor6 = get_students_bysemester('Bachelor semestre 6')"
   ]
  },
  {
   "cell_type": "markdown",
   "metadata": {
    "collapsed": false
   },
   "source": [
    "We want to keep only the students for which we have an entry for both \"Bachelor semestre 1\" and \"Bachelor semestre 6\". We add those students to our DataFrame ALL_DATA: "
   ]
  },
  {
   "cell_type": "code",
   "execution_count": 61,
   "metadata": {
    "collapsed": false
   },
   "outputs": [],
   "source": [
    "#Maintenant qu'on a que les étudiants de Bachelor 1 et Bachelor 6, on prends l'interesction des deux\n",
    "for s1 in student_bachelor1 :\n",
    "    for s6 in student_bachelor6 :\n",
    "        if s1['Nom et prénom'] == s6['Nom et prénom'] :\n",
    "\n",
    "            ALL_DATA = ALL_DATA.append(pd.Series(s1),ignore_index=True)\n",
    "            ALL_DATA = ALL_DATA.append(pd.Series(s6),ignore_index=True)\n",
    "            "
   ]
  },
  {
   "cell_type": "markdown",
   "metadata": {},
   "source": [
    "We also take the students in \"Bachelor 5\". Indeed we need this information to know if a student obtained the Bachelor in 7 semesters instead of 6."
   ]
  },
  {
   "cell_type": "code",
   "execution_count": 62,
   "metadata": {
    "collapsed": false
   },
   "outputs": [],
   "source": [
    "names = set(ALL_DATA['Nom et prénom'].tolist())\n",
    "\n",
    "for s5 in student_bachelor5 : \n",
    "    if s5['Nom et prénom'] in names : \n",
    "        ALL_DATA = ALL_DATA.append(pd.Series(s5),ignore_index=True)"
   ]
  },
  {
   "cell_type": "markdown",
   "metadata": {},
   "source": [
    "There are a lot of duplicates because of the loop with student_bachelor1 and student_bachelor6. We drop it and set the index of the big DataFrame to be the name of the students \"Nom et prénom\"."
   ]
  },
  {
   "cell_type": "code",
   "execution_count": 63,
   "metadata": {
    "collapsed": false
   },
   "outputs": [],
   "source": [
    "ALL_DATA = ALL_DATA.drop_duplicates()\n",
    "ALL_DATA = ALL_DATA.set_index(['Nom et prénom'])"
   ]
  },
  {
   "cell_type": "markdown",
   "metadata": {},
   "source": [
    "To answer the first question: in how much time the student complete his bachelor, we create a DataFrame named \"result\" with the attributes of \"cols_result\". We assume that a student can complete its bachelor in semester 5 (last semester registered in is BA5).\n",
    "\n",
    "We create a new DataFrame \"temp_frame\" that takes only one student at time (in the loop we iterate among all the students and stock at each iteration the student in the DataFrame). Then, we select the highest academic period (that works with strings too) and the smallest. We convert them into int and do a simple substraction and we stock the result in \"diff\". Moreover, if the number of entries of \"Bachelor semestre 5\" is greater than the number of entries of \"Bachelor semestre 6\", then we need to remove one semester to the student."
   ]
  },
  {
   "cell_type": "code",
   "execution_count": 64,
   "metadata": {
    "collapsed": false
   },
   "outputs": [],
   "source": [
    "cols_result = ['Name','Sex','First year of bachelor', 'Last year of bachelor', 'Time_Bachelor (months)']\n",
    "result = pd.DataFrame(columns=cols_result)\n",
    "\n",
    "for name in ALL_DATA.index.drop_duplicates() : \n",
    "    \n",
    "    temp_frame = ALL_DATA.loc[name]\n",
    "    max_year = str(temp_frame['Période académique'].max()).split(\"-\")[1]\n",
    "    min_year = str(temp_frame['Période académique'].min()).split(\"-\")[0]\n",
    "\n",
    "    diff = int(max_year)-int(min_year)\n",
    "    \n",
    "    pen=0\n",
    "    numb_sem5 = temp_frame['Période pédagogique'].values.tolist().count('Bachelor semestre 5')\n",
    "    numb_sem6 = temp_frame['Période pédagogique'].values.tolist().count('Bachelor semestre 6')\n",
    "    \n",
    "    if(numb_sem5>numb_sem6) :\n",
    "        pen = 6\n",
    "    \n",
    "    temp = {'Name' : name,'Sex' : str(temp_frame['Civilité'].values[0]) ,'First year of bachelor' :temp_frame['Période académique'].min(),\n",
    "            'Last year of bachelor' :temp_frame['Période académique'].max() , 'Time_Bachelor (months)' : 12*diff-pen}\n",
    "    \n",
    "    \n",
    "    result = result.append(temp, ignore_index=True)\n"
   ]
  },
  {
   "cell_type": "code",
   "execution_count": 65,
   "metadata": {
    "collapsed": false
   },
   "outputs": [
    {
     "data": {
      "text/html": [
       "<div>\n",
       "<table border=\"1\" class=\"dataframe\">\n",
       "  <thead>\n",
       "    <tr style=\"text-align: right;\">\n",
       "      <th></th>\n",
       "      <th>Name</th>\n",
       "      <th>Sex</th>\n",
       "      <th>First year of bachelor</th>\n",
       "      <th>Last year of bachelor</th>\n",
       "      <th>Time_Bachelor (months)</th>\n",
       "    </tr>\n",
       "  </thead>\n",
       "  <tbody>\n",
       "    <tr>\n",
       "      <th>0</th>\n",
       "      <td>Alfonso Peterssen Alfonso</td>\n",
       "      <td>Monsieur</td>\n",
       "      <td>2013-2014</td>\n",
       "      <td>2015-2016</td>\n",
       "      <td>36.0</td>\n",
       "    </tr>\n",
       "    <tr>\n",
       "      <th>1</th>\n",
       "      <td>Baraschi Zoé</td>\n",
       "      <td>Madame</td>\n",
       "      <td>2012-2013</td>\n",
       "      <td>2016-2017</td>\n",
       "      <td>54.0</td>\n",
       "    </tr>\n",
       "    <tr>\n",
       "      <th>2</th>\n",
       "      <td>Birchmeier Alain Dominique</td>\n",
       "      <td>Monsieur</td>\n",
       "      <td>2013-2014</td>\n",
       "      <td>2015-2016</td>\n",
       "      <td>36.0</td>\n",
       "    </tr>\n",
       "    <tr>\n",
       "      <th>3</th>\n",
       "      <td>Boissaye Arnaud Didier Marie</td>\n",
       "      <td>Monsieur</td>\n",
       "      <td>2013-2014</td>\n",
       "      <td>2016-2017</td>\n",
       "      <td>42.0</td>\n",
       "    </tr>\n",
       "    <tr>\n",
       "      <th>4</th>\n",
       "      <td>Bonfils Nils Pascal</td>\n",
       "      <td>Monsieur</td>\n",
       "      <td>2013-2014</td>\n",
       "      <td>2015-2016</td>\n",
       "      <td>36.0</td>\n",
       "    </tr>\n",
       "    <tr>\n",
       "      <th>5</th>\n",
       "      <td>Bonnome Hugo</td>\n",
       "      <td>Monsieur</td>\n",
       "      <td>2012-2013</td>\n",
       "      <td>2015-2016</td>\n",
       "      <td>48.0</td>\n",
       "    </tr>\n",
       "    <tr>\n",
       "      <th>6</th>\n",
       "      <td>Bordenca Tobias</td>\n",
       "      <td>Monsieur</td>\n",
       "      <td>2012-2013</td>\n",
       "      <td>2015-2016</td>\n",
       "      <td>48.0</td>\n",
       "    </tr>\n",
       "    <tr>\n",
       "      <th>7</th>\n",
       "      <td>Bouron Justinien Gérard Alain</td>\n",
       "      <td>Monsieur</td>\n",
       "      <td>2013-2014</td>\n",
       "      <td>2015-2016</td>\n",
       "      <td>36.0</td>\n",
       "    </tr>\n",
       "    <tr>\n",
       "      <th>8</th>\n",
       "      <td>Breitenstein Yannick Lucas</td>\n",
       "      <td>Monsieur</td>\n",
       "      <td>2013-2014</td>\n",
       "      <td>2016-2017</td>\n",
       "      <td>42.0</td>\n",
       "    </tr>\n",
       "    <tr>\n",
       "      <th>9</th>\n",
       "      <td>Casademont Nicolas</td>\n",
       "      <td>Monsieur</td>\n",
       "      <td>2013-2014</td>\n",
       "      <td>2015-2016</td>\n",
       "      <td>36.0</td>\n",
       "    </tr>\n",
       "  </tbody>\n",
       "</table>\n",
       "</div>"
      ],
      "text/plain": [
       "                            Name       Sex First year of bachelor  \\\n",
       "0      Alfonso Peterssen Alfonso  Monsieur              2013-2014   \n",
       "1                   Baraschi Zoé    Madame              2012-2013   \n",
       "2     Birchmeier Alain Dominique  Monsieur              2013-2014   \n",
       "3   Boissaye Arnaud Didier Marie  Monsieur              2013-2014   \n",
       "4            Bonfils Nils Pascal  Monsieur              2013-2014   \n",
       "5                   Bonnome Hugo  Monsieur              2012-2013   \n",
       "6                Bordenca Tobias  Monsieur              2012-2013   \n",
       "7  Bouron Justinien Gérard Alain  Monsieur              2013-2014   \n",
       "8     Breitenstein Yannick Lucas  Monsieur              2013-2014   \n",
       "9             Casademont Nicolas  Monsieur              2013-2014   \n",
       "\n",
       "  Last year of bachelor  Time_Bachelor (months)  \n",
       "0             2015-2016                    36.0  \n",
       "1             2016-2017                    54.0  \n",
       "2             2015-2016                    36.0  \n",
       "3             2016-2017                    42.0  \n",
       "4             2015-2016                    36.0  \n",
       "5             2015-2016                    48.0  \n",
       "6             2015-2016                    48.0  \n",
       "7             2015-2016                    36.0  \n",
       "8             2016-2017                    42.0  \n",
       "9             2015-2016                    36.0  "
      ]
     },
     "execution_count": 65,
     "metadata": {},
     "output_type": "execute_result"
    }
   ],
   "source": [
    "#We print the 10 first entries of result \n",
    "result.head(10)"
   ]
  },
  {
   "cell_type": "raw",
   "metadata": {},
   "source": [
    "result"
   ]
  },
  {
   "cell_type": "code",
   "execution_count": 66,
   "metadata": {
    "collapsed": false
   },
   "outputs": [
    {
     "data": {
      "text/plain": [
       "Time_Bachelor (months)    42.725441\n",
       "dtype: float64"
      ]
     },
     "execution_count": 66,
     "metadata": {},
     "output_type": "execute_result"
    }
   ],
   "source": [
    "#Average time to complete the bachelor\n",
    "result.mean()"
   ]
  },
  {
   "cell_type": "code",
   "execution_count": 71,
   "metadata": {
    "collapsed": false
   },
   "outputs": [
    {
     "data": {
      "text/html": [
       "<div>\n",
       "<table border=\"1\" class=\"dataframe\">\n",
       "  <thead>\n",
       "    <tr style=\"text-align: right;\">\n",
       "      <th></th>\n",
       "      <th>Time_Bachelor (months)</th>\n",
       "    </tr>\n",
       "    <tr>\n",
       "      <th>Sex</th>\n",
       "      <th></th>\n",
       "    </tr>\n",
       "  </thead>\n",
       "  <tbody>\n",
       "    <tr>\n",
       "      <th>Madame</th>\n",
       "      <td>40.758621</td>\n",
       "    </tr>\n",
       "    <tr>\n",
       "      <th>Monsieur</th>\n",
       "      <td>42.880435</td>\n",
       "    </tr>\n",
       "  </tbody>\n",
       "</table>\n",
       "</div>"
      ],
      "text/plain": [
       "          Time_Bachelor (months)\n",
       "Sex                             \n",
       "Madame                 40.758621\n",
       "Monsieur               42.880435"
      ]
     },
     "execution_count": 71,
     "metadata": {},
     "output_type": "execute_result"
    }
   ],
   "source": [
    "#Average time by sex \n",
    "\n",
    "result_by_sex = result.groupby('Sex')\n",
    "result_by_sex.mean()\n"
   ]
  },
  {
   "cell_type": "code",
   "execution_count": 68,
   "metadata": {
    "collapsed": false
   },
   "outputs": [],
   "source": [
    "#In those variables, we collect in a numpy array the time (in months) for men/women to obtain the bachelor\n",
    "men = np.array(result[result.Sex=='Monsieur']['Time_Bachelor (months)'])\n",
    "women = np.array(result[result.Sex=='Madame']['Time_Bachelor (months)'])"
   ]
  },
  {
   "cell_type": "markdown",
   "metadata": {},
   "source": [
    "Doing a Two Sample T-test assuming that both samples (men and women) do not have the same variance. Indeed, we don't have any information about that. The null hypothesis is that the mean of both groups are the same. We choose a significant level of 0.05."
   ]
  },
  {
   "cell_type": "code",
   "execution_count": 72,
   "metadata": {
    "collapsed": false
   },
   "outputs": [
    {
     "data": {
      "text/plain": [
       "Ttest_indResult(statistic=1.3437005678090845, pvalue=0.18785555340784144)"
      ]
     },
     "execution_count": 72,
     "metadata": {},
     "output_type": "execute_result"
    }
   ],
   "source": [
    "stats.ttest_ind(a= men,\n",
    "                b= women,\n",
    "                equal_var=False) "
   ]
  },
  {
   "cell_type": "markdown",
   "metadata": {
    "collapsed": true
   },
   "source": [
    "We have a p-value of 0.1879. Therefore we can't reject the null hypothesis.\n",
    "As we failed to reject the null hypothesis, we can think that we are in a Type II error ('a false positive'), but we can state that we are not. Even if we take a lower confidence level (or higher significant level) we still are in the same case: we can't reject the null hypothsesis. Then, we can assume that the mean of both groups are approximately the same."
   ]
  },
  {
   "cell_type": "code",
   "execution_count": null,
   "metadata": {
    "collapsed": true
   },
   "outputs": [],
   "source": []
  }
 ],
 "metadata": {
  "anaconda-cloud": {},
  "kernelspec": {
   "display_name": "Python [Root]",
   "language": "python",
   "name": "Python [Root]"
  },
  "language_info": {
   "codemirror_mode": {
    "name": "ipython",
    "version": 3
   },
   "file_extension": ".py",
   "mimetype": "text/x-python",
   "name": "python",
   "nbconvert_exporter": "python",
   "pygments_lexer": "ipython3",
   "version": "3.5.2"
  }
 },
 "nbformat": 4,
 "nbformat_minor": 0
}
