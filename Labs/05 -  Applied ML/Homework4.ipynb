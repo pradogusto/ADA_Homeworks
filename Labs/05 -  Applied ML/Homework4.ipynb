{
 "cells": [
  {
   "cell_type": "markdown",
   "metadata": {},
   "source": [
    "As usual we import the libraries we are going to use : \n",
    "\n",
    "- pandas to deal with csv file\n",
    "- numpy to manipulate arrays\n",
    "- RandomForestClassifier to answer the first question\n",
    "- LabelEncoder to deal with string values in the fit method of RandomForestClassifier\n",
    "- linear_model to do a simple linear regression \n",
    "- matplotlib to plot \n",
    "- the two other libraries to answer the second question\n",
    "- itertools for question 2\n",
    "- BeautifulSoup to do find the missing position of the players"
   ]
  },
  {
   "cell_type": "code",
   "execution_count": 1,
   "metadata": {
    "collapsed": true
   },
   "outputs": [],
   "source": [
    "import pandas as pd                                     \n",
    "import numpy as np                                      \n",
    "from sklearn.ensemble import RandomForestClassifier\n",
    "from sklearn.preprocessing import LabelEncoder\n",
    "from sklearn import linear_model\n",
    "import matplotlib.pyplot as plt\n",
    "from sklearn.cluster import KMeans\n",
    "from sklearn.metrics import silhouette_score , confusion_matrix #,silhouette_samples\n",
    "import seaborn as sns\n",
    "import itertools\n",
    "sns.set_style(\"darkgrid\")\n",
    "%matplotlib inline\n",
    "import requests\n",
    "from bs4 import BeautifulSoup"
   ]
  },
  {
   "cell_type": "markdown",
   "metadata": {},
   "source": [
    "# Helper functions"
   ]
  },
  {
   "cell_type": "markdown",
   "metadata": {},
   "source": [
    "We first define some useful methods for the rest of the homework. \n",
    "\n",
    "- cross validation returns a tuple containing the average training error and the average test error of the k-fold cross validation on X and y using \"estimator\" to fit the model, and also the average confusion matrix.\n",
    "- learning curve plots the learning curves\n",
    "- describe_importances to describe the importances of the features used by the classifier \n",
    "- get_position that search the position of the player in wikipedia"
   ]
  },
  {
   "cell_type": "code",
   "execution_count": 2,
   "metadata": {
    "collapsed": false
   },
   "outputs": [],
   "source": [
    "def cross_validation(y, X, k, estimator):\n",
    " \n",
    "    train_acc = []\n",
    "    test_acc = []\n",
    "    n = int(len(y)/k)\n",
    "    average_confusion_matrix = np.zeros([5,5])\n",
    "\n",
    "    for i in range(0,k) : \n",
    "    \n",
    "        mask = np.ones(len(y), dtype=bool)\n",
    "    \n",
    "        if(i!=(n-1)) :\n",
    "        \n",
    "            mask[i*n:(i+1)*n] = False        \n",
    "            y_test = y[i*n:(i+1)*n]\n",
    "            X_test = X[i*n:(i+1)*n]\n",
    "        \n",
    "        else : \n",
    "        \n",
    "            mask[i*n:] = False         \n",
    "            y_test = y[i*n:] \n",
    "            X_test = X[i*n:]\n",
    "    \n",
    "    \n",
    "        y_train = y[mask]\n",
    "        X_train = X[mask]\n",
    "        \n",
    "        \n",
    "        estimator.fit(X_train,y_train)\n",
    "        train_acc.append(estimator.score(X_train,y_train))\n",
    "        test_acc.append(estimator.score(X_test,y_test))\n",
    "        \n",
    "        average_confusion_matrix += confusion_matrix(y_test, estimator.predict(X_test) , labels = [0,1,2,3,4])\n",
    "        \n",
    "        \n",
    "    \n",
    "    return np.asarray(train_acc).mean() , np.asarray(test_acc).mean() , average_confusion_matrix/k"
   ]
  },
  {
   "cell_type": "code",
   "execution_count": 3,
   "metadata": {
    "collapsed": true
   },
   "outputs": [],
   "source": [
    "def learning_curve(X,y,estimator) : \n",
    "    \n",
    "    n_samples = X.shape[0]\n",
    "    train_scores = []\n",
    "    test_scores = []\n",
    "    abscisse = []\n",
    "\n",
    "    for n in range(40, n_samples, 10) :\n",
    "    \n",
    "        abscisse.append(n)    \n",
    "        train_scores.append(cross_validation(y[:n],X[:n],20,estimator)[0])\n",
    "        test_scores.append(cross_validation(y[:n],X[:n],20,estimator)[1])\n",
    "        \n",
    "    \n",
    "    plt.plot(abscisse, train_scores, 'r', abscisse, test_scores, 'b')"
   ]
  },
  {
   "cell_type": "code",
   "execution_count": 4,
   "metadata": {
    "collapsed": true
   },
   "outputs": [],
   "source": [
    "def describe_importances(X,y,estimator) : \n",
    "    \n",
    "    \n",
    "    estimator.fit(X,y)\n",
    "    importances = estimator.feature_importances_\n",
    "    std = np.std([tree.feature_importances_ for tree in estimator.estimators_],\n",
    "             axis=0)\n",
    "    indices = np.argsort(importances)[::-1]\n",
    "\n",
    "    print(\"Feature ranking:\")\n",
    "    print()\n",
    "\n",
    "    for f in range(X.shape[1]):\n",
    "        print(\"%d. %s (%f)\" % (f + 1, X.columns[indices[f]], importances[indices[f]]))        \n",
    "        \n",
    "    \n",
    "    plt.figure()\n",
    "    plt.title(\"Feature importances\")\n",
    "    plt.bar(range(X.shape[1]), importances[indices],\n",
    "       color=\"r\", align=\"center\")\n",
    "    plt.xticks(range(X.shape[1]), X.columns[indices])\n",
    "    locs, labels = plt.xticks()\n",
    "    plt.setp(labels, rotation=90)\n",
    "    plt.xlim([-1, X.shape[1]])\n",
    "    plt.show()   "
   ]
  },
  {
   "cell_type": "code",
   "execution_count": 5,
   "metadata": {
    "collapsed": true
   },
   "outputs": [],
   "source": [
    "def get_position(name):\n",
    "    \n",
    "    url = \"https://en.wikipedia.org/wiki/\"\n",
    "    name_ = name.replace(' ', '_')\n",
    "    final_url = url + name_\n",
    "    final_url\n",
    "    r = requests.get(final_url)\n",
    "    soup = BeautifulSoup(r.content,\"lxml\")\n",
    "    g_data = soup.find_all(\"td\", {\"class\":\"role\"})\n",
    "    if (len(g_data)==0) or (g_data[0].find(\"a\") is None):\n",
    "        return ''\n",
    "    return g_data[0].find(\"a\").text"
   ]
  },
  {
   "cell_type": "markdown",
   "metadata": {},
   "source": [
    "## Question 1\n",
    "\n",
    "We define a DataFrame df to store all the data"
   ]
  },
  {
   "cell_type": "code",
   "execution_count": 6,
   "metadata": {
    "collapsed": false
   },
   "outputs": [],
   "source": [
    "df = pd.read_csv('CrowdstormingDataJuly1st.csv')"
   ]
  },
  {
   "cell_type": "markdown",
   "metadata": {},
   "source": [
    "First, we remove 'birthday' features that we are sure that it has nothing to do with the skin color"
   ]
  },
  {
   "cell_type": "code",
   "execution_count": 7,
   "metadata": {
    "collapsed": false
   },
   "outputs": [],
   "source": [
    "del df['birthday']"
   ]
  },
  {
   "cell_type": "markdown",
   "metadata": {},
   "source": [
    "An other thing we can do to clean our data is to use one important result in the study : \"Crowdsourcing data analysis: Do soccer referees give more red cards to dark skin toned players?\". This result states that \"If you aren't in at least 22 dyads you didn't ref a game in one of our four defining leagues\", so a lot of data of our set are faulty data and we remove it."
   ]
  },
  {
   "cell_type": "code",
   "execution_count": 8,
   "metadata": {
    "collapsed": false
   },
   "outputs": [
    {
     "name": "stderr",
     "output_type": "stream",
     "text": [
      "/Users/selmachraibi/anaconda/lib/python3.5/site-packages/ipykernel/__main__.py:1: UserWarning: Boolean Series key will be reindexed to match DataFrame index.\n",
      "  if __name__ == '__main__':\n"
     ]
    }
   ],
   "source": [
    "df = df.set_index(['refNum'])[df['refNum'].value_counts() > 21].reset_index()"
   ]
  },
  {
   "cell_type": "markdown",
   "metadata": {},
   "source": [
    "We can now split our big frame into two frames which will be the dataset (train + test) and one set that can be used for predictions for example. (In which we keep the players for which we don't have skin ratings)\n",
    "\n",
    "We can also remove this feature after that because obviously it doesn't help in the classification"
   ]
  },
  {
   "cell_type": "code",
   "execution_count": 9,
   "metadata": {
    "collapsed": true
   },
   "outputs": [],
   "source": [
    "prediction_set = df[pd.isnull(df['photoID'])]\n",
    "data_set = df[pd.notnull(df['photoID'])]\n",
    "\n",
    "del prediction_set['photoID']\n",
    "del data_set['photoID']"
   ]
  },
  {
   "cell_type": "markdown",
   "metadata": {},
   "source": [
    "For this question, since the main goal is not to predict unknown values but rather to try to understand the behaviour of a random forest classifier when we change the parameters and how it affects under/overfitting, we choose to keep only the players for which the two raters agreed upon the skin color (76% of the dyades, a correct number).\n",
    "\n",
    "Also, since RandomForestClassifier doesn't work with NaN values but also with string values, we have to find a way to tackle these two problems. \n",
    "\n",
    "To deal with string values, we will simply encode it using the LabelEncoder object later.\n",
    "\n",
    "Let's see first how many missing values do we have : "
   ]
  },
  {
   "cell_type": "code",
   "execution_count": 10,
   "metadata": {
    "collapsed": false
   },
   "outputs": [],
   "source": [
    "set_agree = data_set[data_set['rater1'] == data_set['rater2']]\n",
    "del set_agree['rater2']"
   ]
  },
  {
   "cell_type": "code",
   "execution_count": 11,
   "metadata": {
    "collapsed": false
   },
   "outputs": [],
   "source": [
    "set_agree = set_agree.reset_index(drop=True)"
   ]
  },
  {
   "cell_type": "code",
   "execution_count": 12,
   "metadata": {
    "collapsed": false
   },
   "outputs": [
    {
     "name": "stdout",
     "output_type": "stream",
     "text": [
      "height  :  23  missing values\n",
      "weight  :  591  missing values\n",
      "position  :  6148  missing values\n",
      "meanIAT  :  83  missing values\n",
      "nIAT  :  83  missing values\n",
      "seIAT  :  83  missing values\n",
      "meanExp  :  83  missing values\n",
      "nExp  :  83  missing values\n",
      "seExp  :  83  missing values\n"
     ]
    }
   ],
   "source": [
    "mvb = set_agree.isnull().any()\n",
    "\n",
    "for i in mvb[mvb].index : \n",
    "    print(i, ' : ',set_agree[i].isnull().sum(), ' missing values')"
   ]
  },
  {
   "cell_type": "markdown",
   "metadata": {},
   "source": [
    "We choosed to deal with the missing positions parameters since it's an attribute that is corellated with the number of yellow/red cards. For every missing position we are going to call **get_position**, a function that get the position from Wikipédia."
   ]
  },
  {
   "cell_type": "code",
   "execution_count": 13,
   "metadata": {
    "collapsed": false
   },
   "outputs": [
    {
     "name": "stdout",
     "output_type": "stream",
     "text": [
      "Number of players with missing positions :  367\n"
     ]
    }
   ],
   "source": [
    "joueurs = df[df['position'].isnull()]['player']\n",
    "liste = list(set(joueurs.values))\n",
    "a=set(joueurs.values)\n",
    "print('Number of players with missing positions : ',len(a))"
   ]
  },
  {
   "cell_type": "markdown",
   "metadata": {},
   "source": [
    "Here, we direct change the position found in the dataframe"
   ]
  },
  {
   "cell_type": "code",
   "execution_count": 14,
   "metadata": {
    "collapsed": false
   },
   "outputs": [],
   "source": [
    "joueurs = df[df['position'].isnull()]['player']\n",
    "liste = list(set(joueurs.values))\n",
    "\n",
    "for name in liste:\n",
    "    true_name = name\n",
    "    if name.startswith(' '):\n",
    "        name = name[1:]\n",
    "    indices = set_agree[set_agree['player']==true_name].index\n",
    "    set_agree.iloc[indices , 7] = get_position(name)"
   ]
  },
  {
   "cell_type": "markdown",
   "metadata": {},
   "source": [
    "Results of the Wikipédia scrapping:"
   ]
  },
  {
   "cell_type": "code",
   "execution_count": 15,
   "metadata": {
    "collapsed": false
   },
   "outputs": [
    {
     "name": "stdout",
     "output_type": "stream",
     "text": [
      "Number of player with still missing positions =  22  Proportion of filled missing values :  0.9400544959128065\n"
     ]
    }
   ],
   "source": [
    "b=set(set_agree[set_agree['position']=='']['player'])\n",
    "\n",
    "print('Number of player with still missing positions = ',len(b), \n",
    "      ' Proportion of filled missing values : ', (len(a)-len(b))/len(a))"
   ]
  },
  {
   "cell_type": "markdown",
   "metadata": {},
   "source": [
    "The 22 missing players represent 972 rows... we delete it."
   ]
  },
  {
   "cell_type": "code",
   "execution_count": 16,
   "metadata": {
    "collapsed": true
   },
   "outputs": [],
   "source": [
    "set_agree2 = set_agree[set_agree['position']!=''].reset_index(drop=True)"
   ]
  },
  {
   "cell_type": "markdown",
   "metadata": {},
   "source": [
    "Then, we see that we have 27 different positions, so we are going to group them in only 4 categorie : Goalkeeper, Defender, Midfielier and Striker. We do it manually, sorry for the heavy code.. "
   ]
  },
  {
   "cell_type": "code",
   "execution_count": 17,
   "metadata": {
    "collapsed": true
   },
   "outputs": [],
   "source": [
    "# Midfielder\n",
    "indice1 = set_agree2[set_agree2['position'] =='Left Midfielder' ].index\n",
    "set_agree2.iloc[indice1,7] = 'Midfielder'\n",
    "indice2 = set_agree2[set_agree2['position'] =='Right Midfielder'].index\n",
    "set_agree2.iloc[indice2,7]= 'Midfielder'\n",
    "indice3 = set_agree2[set_agree2['position'] =='Central midfielder'].index\n",
    "set_agree2.iloc[indice3,7]= 'Midfielder'\n",
    "indice4 = set_agree2[set_agree2['position'] =='Center Back'].index\n",
    "set_agree2.iloc[indice4,7]= 'Midfielder'\n",
    "indice5 = set_agree2[set_agree2['position'] =='Center Forward'].index\n",
    "set_agree2.iloc[indice5,7]= 'Midfielder'\n",
    "indice6 = set_agree2[set_agree2['position'] =='Defensive midfielder'].index\n",
    "set_agree2.iloc[indice6,7]= 'Midfielder'\n",
    "indice7 = set_agree2[set_agree2['position'] =='Defensive Midfielder'].index\n",
    "set_agree2.iloc[indice7,7]= 'Midfielder'\n",
    "indice8 = set_agree2[set_agree2['position'] =='Attacking Midfielder'].index\n",
    "set_agree2.iloc[indice8,7]= 'Midfielder'\n",
    "indice9 = set_agree2[set_agree2['position'] =='Attacking midfielder'].index\n",
    "set_agree2.iloc[indice9,7]= 'Midfielder'\n",
    "indice10 = set_agree2[set_agree2['position'] =='Center Midfielder'].index\n",
    "set_agree2.iloc[indice10,7]= 'Midfielder'\n",
    "indice11 = set_agree2[set_agree2['position'] =='Centre back'].index\n",
    "set_agree2.iloc[indice11,7]= 'Midfielder'\n",
    "indice12 = set_agree2[set_agree2['position'] =='Centre-back'].index\n",
    "set_agree2.iloc[indice12,7]= 'Midfielder'\n",
    "\n",
    "\n",
    "\n",
    "# Striker\n",
    "indice13 = set_agree2[set_agree2['position'] =='Winger' ].index\n",
    "set_agree2.iloc[indice13,7] ='Striker'\n",
    "indice14 = set_agree2[set_agree2['position'] =='Forward'].index\n",
    "set_agree2.iloc[indice14,7]='Striker'\n",
    "indice15 = set_agree2[set_agree2['position'] =='Left Winger'].index\n",
    "set_agree2.iloc[indice15,7]='Striker'\n",
    "indice16 = set_agree2[set_agree2['position'] =='Right Winger'].index\n",
    "set_agree2.iloc[indice16,7]='Striker'\n",
    "\n",
    "\n",
    "# Defender\n",
    "indice17 = set_agree2[set_agree2['position'] =='Full back' ].index\n",
    "set_agree2.iloc[indice17,7] = 'Defender'\n",
    "indice18 = set_agree2[set_agree2['position'] =='Full-back'].index\n",
    "set_agree2.iloc[indice18,7]= 'Defender'\n",
    "indice19 = set_agree2[set_agree2['position'] =='Right back'].index\n",
    "set_agree2.iloc[indice19,7]= 'Defender'\n",
    "indice20 = set_agree2[set_agree2['position'] =='Left-back'].index\n",
    "set_agree2.iloc[indice20,7]= 'Defender'\n",
    "indice21 = set_agree2[set_agree2['position'] =='Left back'].index\n",
    "set_agree2.iloc[indice21,7]= 'Defender'\n",
    "indice22 = set_agree2[set_agree2['position'] =='Right Fullback'].index\n",
    "set_agree2.iloc[indice22,7]= 'Defender'\n",
    "indice23 = set_agree2[set_agree2['position'] =='Left Fullback'].index\n",
    "set_agree2.iloc[indice23,7]= 'Defender'"
   ]
  },
  {
   "cell_type": "markdown",
   "metadata": {},
   "source": [
    "We now have our 4 positions !"
   ]
  },
  {
   "cell_type": "code",
   "execution_count": 18,
   "metadata": {
    "collapsed": false
   },
   "outputs": [
    {
     "data": {
      "text/plain": [
       "Midfielder    57244\n",
       "Defender      12995\n",
       "Striker        8383\n",
       "Goalkeeper     7850\n",
       "Name: position, dtype: int64"
      ]
     },
     "execution_count": 18,
     "metadata": {},
     "output_type": "execute_result"
    }
   ],
   "source": [
    "set_agree2['position'].value_counts()"
   ]
  },
  {
   "cell_type": "markdown",
   "metadata": {},
   "source": [
    "We suspect that the 83 missing values in the 6 last columns correspond to the same rows. We will simply delete it "
   ]
  },
  {
   "cell_type": "code",
   "execution_count": 19,
   "metadata": {
    "collapsed": true
   },
   "outputs": [],
   "source": [
    "set_agree2 = set_agree2[set_agree2['nIAT'].notnull()]"
   ]
  },
  {
   "cell_type": "markdown",
   "metadata": {},
   "source": [
    "We have 23 missing values left for the height, and 591 missing values left for the weight. \n",
    "The missing values for the height correspond to only 3 players, we delete it."
   ]
  },
  {
   "cell_type": "code",
   "execution_count": 20,
   "metadata": {
    "collapsed": false
   },
   "outputs": [],
   "source": [
    "set_agree2 = set_agree2[set_agree2['height'].notnull()]"
   ]
  },
  {
   "cell_type": "markdown",
   "metadata": {},
   "source": [
    "\n",
    "To fill the missing values for the weight, we will do a simple linear regression using sklearn : \n",
    "\n",
    "$$weight = \\beta_{0} + \\beta_{1}*height$$ \n",
    "\n",
    "Because we can consider that soccer players have more or less the same weight for a given height (can't be very fat or very thin)"
   ]
  },
  {
   "cell_type": "code",
   "execution_count": 21,
   "metadata": {
    "collapsed": false
   },
   "outputs": [
    {
     "data": {
      "text/html": [
       "<div>\n",
       "<table border=\"1\" class=\"dataframe\">\n",
       "  <thead>\n",
       "    <tr style=\"text-align: right;\">\n",
       "      <th></th>\n",
       "      <th>height</th>\n",
       "      <th>weight</th>\n",
       "    </tr>\n",
       "  </thead>\n",
       "  <tbody>\n",
       "    <tr>\n",
       "      <th>0</th>\n",
       "      <td>182.0</td>\n",
       "      <td>71.0</td>\n",
       "    </tr>\n",
       "    <tr>\n",
       "      <th>1</th>\n",
       "      <td>187.0</td>\n",
       "      <td>80.0</td>\n",
       "    </tr>\n",
       "    <tr>\n",
       "      <th>2</th>\n",
       "      <td>180.0</td>\n",
       "      <td>68.0</td>\n",
       "    </tr>\n",
       "    <tr>\n",
       "      <th>3</th>\n",
       "      <td>193.0</td>\n",
       "      <td>80.0</td>\n",
       "    </tr>\n",
       "    <tr>\n",
       "      <th>4</th>\n",
       "      <td>180.0</td>\n",
       "      <td>70.0</td>\n",
       "    </tr>\n",
       "  </tbody>\n",
       "</table>\n",
       "</div>"
      ],
      "text/plain": [
       "   height  weight\n",
       "0   182.0    71.0\n",
       "1   187.0    80.0\n",
       "2   180.0    68.0\n",
       "3   193.0    80.0\n",
       "4   180.0    70.0"
      ]
     },
     "execution_count": 21,
     "metadata": {},
     "output_type": "execute_result"
    }
   ],
   "source": [
    "data_points = df[['playerShort', 'height' , 'weight']].drop_duplicates()[['height','weight']]\n",
    "data_points.dropna(inplace=True)\n",
    "data_points.head()"
   ]
  },
  {
   "cell_type": "code",
   "execution_count": 22,
   "metadata": {
    "collapsed": false
   },
   "outputs": [],
   "source": [
    "x = np.asarray(data_points['height'])\n",
    "y = np.asarray(data_points['weight'])\n",
    "\n",
    "rl = linear_model.LinearRegression()\n",
    "rl.fit(x.reshape(x.shape[0],1) , y.reshape(y.shape[0],1))\n",
    "\n",
    "for index in set_agree2[set_agree2['weight'].isnull()].index : \n",
    "    \n",
    "    set_agree2.set_value(index=index, col='weight' , value = int(rl.predict(set_agree2.loc[index].height)))"
   ]
  },
  {
   "cell_type": "markdown",
   "metadata": {},
   "source": [
    "Now we are done with missing values. We have to encode the categorical features : (to encode the feature \"rating\", we prefer to use the map function of pandas to keep the values ordered) "
   ]
  },
  {
   "cell_type": "code",
   "execution_count": 23,
   "metadata": {
    "collapsed": false
   },
   "outputs": [],
   "source": [
    "le_club = LabelEncoder()\n",
    "la_position = LabelEncoder()\n",
    "le_leaguecountry = LabelEncoder()\n",
    "le_alpha = LabelEncoder()\n",
    "map_skin = {0 : 0 , 0.25 : 1 , 0.5 : 2 , 0.75 : 3 , 1 : 4}\n",
    "\n",
    "le_club.fit(set_agree2['club'])\n",
    "la_position.fit(set_agree2['position'])\n",
    "le_leaguecountry.fit(set_agree2['leagueCountry'])\n",
    "le_alpha.fit(set_agree2['Alpha_3'])\n",
    "\n",
    "set_agree2['club'] = le_club.transform(set_agree2['club'])\n",
    "set_agree2['position'] = la_position.transform(set_agree2['position'])\n",
    "set_agree2['leagueCountry'] = le_leaguecountry.transform(set_agree2['leagueCountry'])\n",
    "set_agree2['Alpha_3'] = le_alpha.transform(set_agree2['Alpha_3'])\n",
    "set_agree2['rater1'] = set_agree2['rater1'].map(arg=map_skin)"
   ]
  },
  {
   "cell_type": "markdown",
   "metadata": {},
   "source": [
    "Now, we create an other dataframe that contains information about players (We create it from the dataframe set_agree)"
   ]
  },
  {
   "cell_type": "code",
   "execution_count": 24,
   "metadata": {
    "collapsed": false
   },
   "outputs": [],
   "source": [
    "soccer_player_information = pd.DataFrame()\n",
    "set_agree2.set_index(['playerShort'],inplace=True)\n",
    "\n",
    "for soccer_player in set(set_agree2.index) : \n",
    "    \n",
    "    temp_frame = set_agree2.loc[soccer_player]   \n",
    "    \n",
    "   \n",
    "    seExp = np.std(a=temp_frame['meanExp'])\n",
    "    seIAT = np.std(a=temp_frame['meanIAT'])    \n",
    "    \n",
    "    \n",
    "    player_information = {'playerShort' : soccer_player,\n",
    "                          'position' : temp_frame['position'].mean(),\n",
    "                          'club' : temp_frame['club'].mean(),    #Since it's always the same club, same argument for the rest\n",
    "                          'leagueCountry' : temp_frame['leagueCountry'].mean(), \n",
    "                          'height' : temp_frame['height'].mean(),\n",
    "                          'weight' : temp_frame['weight'].mean(),\n",
    "                          'totalGames' : temp_frame['games'].sum(),\n",
    "                          'totalVictories' : temp_frame['victories'].sum() ,\n",
    "                          'totalTies' : temp_frame['ties'].sum() ,\n",
    "                          'totalDefeats' : temp_frame['defeats'].sum() ,\n",
    "                          'totalGoals' : temp_frame['goals'].sum() ,\n",
    "                          'totalYellowCards' :temp_frame['yellowCards'].sum() ,\n",
    "                          'totalYellowReds' :temp_frame['yellowReds'].sum() ,  \n",
    "                          'totalRedCards' :temp_frame['redCards'].sum(),\n",
    "                          'rating' : temp_frame['rater1'].mean(),\n",
    "                          'meanIAT' : temp_frame['meanIAT'].mean(),\n",
    "                          'meanExp' : temp_frame['meanExp'].mean(),\n",
    "                          'seIAT' :  seIAT,\n",
    "                          'seExp' : seExp}\n",
    "    \n",
    "    soccer_player_information = soccer_player_information.append(pd.Series(player_information), ignore_index=True)"
   ]
  },
  {
   "cell_type": "markdown",
   "metadata": {},
   "source": [
    "# Machine Learning Methods"
   ]
  },
  {
   "cell_type": "markdown",
   "metadata": {},
   "source": [
    "We create classifiers with different parameters. Classifier1 is the classifier by default, which will probably be a good classifier. The two other ones will probably be bad classifiers and have a large bias because of the restrictions we imposed : "
   ]
  },
  {
   "cell_type": "code",
   "execution_count": 25,
   "metadata": {
    "collapsed": false
   },
   "outputs": [],
   "source": [
    "classifier1 = RandomForestClassifier() #Default classifier\n",
    "classifier2 = RandomForestClassifier(max_leaf_nodes=2)\n",
    "classifier3 = RandomForestClassifier(max_depth=4)"
   ]
  },
  {
   "cell_type": "markdown",
   "metadata": {},
   "source": [
    "We create the label vector and delete the feature 'playerShort' which is useless"
   ]
  },
  {
   "cell_type": "code",
   "execution_count": 26,
   "metadata": {
    "collapsed": false
   },
   "outputs": [],
   "source": [
    "y = soccer_player_information['rating']\n",
    "del soccer_player_information['rating']\n",
    "del soccer_player_information['playerShort']"
   ]
  },
  {
   "cell_type": "markdown",
   "metadata": {},
   "source": [
    "** Results of the classifiers : **"
   ]
  },
  {
   "cell_type": "code",
   "execution_count": 27,
   "metadata": {
    "collapsed": false
   },
   "outputs": [
    {
     "name": "stdout",
     "output_type": "stream",
     "text": [
      "Classifier 1  : \n",
      "Average train accuracy :  0.981144067797\n",
      "Average test accuracy :  0.419491525424\n",
      "Confusion matrix :\n",
      "  [[ 49.2  31.2   1.2   0.8   1. ]\n",
      " [ 41.4  43.4   2.2   2.4   1.6]\n",
      " [  9.   11.    0.8   1.4   0.6]\n",
      " [  7.2   7.6   0.4   2.8   2.4]\n",
      " [  4.8   6.4   0.6   3.8   2.8]]\n",
      "\n",
      "Classifier 2  : \n",
      "Average train accuracy :  0.420974576271\n",
      "Average test accuracy :  0.388983050847\n",
      "Confusion matrix :\n",
      "  [[ 23.   60.4   0.    0.    0. ]\n",
      " [ 22.2  68.8   0.    0.    0. ]\n",
      " [  6.2  16.6   0.    0.    0. ]\n",
      " [  6.   14.4   0.    0.    0. ]\n",
      " [  5.4  13.    0.    0.    0. ]]\n",
      "\n",
      "Classifier 3  : \n",
      "Average train accuracy :  0.531355932203\n",
      "Average test accuracy :  0.433898305085\n",
      "Confusion matrix :\n",
      "  [[ 43.6  39.    0.    0.2   0.6]\n",
      " [ 34.8  54.2   0.    0.    2. ]\n",
      " [ 10.   11.6   0.    0.4   0.8]\n",
      " [  8.2   8.8   0.    0.8   2.6]\n",
      " [  7.    6.6   0.    1.    3.8]]\n",
      "\n"
     ]
    }
   ],
   "source": [
    "for i , classifier in enumerate([classifier1 , classifier2 , classifier3]) : \n",
    "    \n",
    "    av_train_acc , av_test_acc , conf_mat = cross_validation(y, soccer_player_information, 5, classifier)    \n",
    "    \n",
    "    print('Classifier',i+1, ' : ')\n",
    "    print('Average train accuracy : ', av_train_acc)\n",
    "    print('Average test accuracy : ', av_test_acc)\n",
    "    print('Confusion matrix :\\n ', conf_mat)\n",
    "    print()"
   ]
  },
  {
   "cell_type": "markdown",
   "metadata": {},
   "source": [
    "** Analysis of the results : **\n",
    "\n",
    "- ** Classifier 1 : **\n",
    "\n",
    "We can clearly see that we are facing overfitting with this classifier. (More than 98% accuracy in the train set and a little bit less than 40% accuracy in the test set, which is not a very bad score with 5 labels). By looking at the confusion matrix, we see that for the light skin people (0.0 and 0.25) we do a good classification. Indeed most of them are well classified and the misclassified ones are in a adjacent class. On the other hand, we see also that we are doing a bad classification for dark skin people (> 0.25) : we will explain why by looking at the results of the two other classifiers.\n",
    "\n",
    "- ** Classifier 2 and 3 : **\n",
    "\n",
    "Clearly, if we don't let the tree grow or we strongly restrict the number of leaves as we did, we will get very bad results in the classification. However, even if we have very bad results on the train set (predictable) the results of the test set aren't bad, more than that : they can be better than a good classifier. Why is that ? To explain this result let's first look at the distribution of the skin color in our data set : "
   ]
  },
  {
   "cell_type": "code",
   "execution_count": 28,
   "metadata": {
    "collapsed": false
   },
   "outputs": [
    {
     "data": {
      "text/plain": [
       "<matplotlib.axes._subplots.AxesSubplot at 0x11aba0a58>"
      ]
     },
     "execution_count": 28,
     "metadata": {},
     "output_type": "execute_result"
    },
    {
     "data": {
      "image/png": "[encoded data removed]",
      "text/plain": [
       "<matplotlib.figure.Figure at 0x11b57f048>"
      ]
     },
     "metadata": {},
     "output_type": "display_data"
    }
   ],
   "source": [
    "y.hist()"
   ]
  },
  {
   "cell_type": "markdown",
   "metadata": {},
   "source": [
    "We see that this distribution is very skewed. Indeed, the light skin people (0.0 and 0.25) represent about 75% of our dataset. That's why the classifier tends to classify a lot the players in these classes and that explain the above results.\n",
    "\n",
    "Now let's take a look at the features importances of the classifiers : "
   ]
  },
  {
   "cell_type": "markdown",
   "metadata": {},
   "source": [
    "**Classifier 1 : **"
   ]
  },
  {
   "cell_type": "code",
   "execution_count": 29,
   "metadata": {
    "collapsed": false
   },
   "outputs": [
    {
     "name": "stdout",
     "output_type": "stream",
     "text": [
      "Feature ranking:\n",
      "\n",
      "1. seIAT (0.091183)\n",
      "2. meanIAT (0.078434)\n",
      "3. seExp (0.075776)\n",
      "4. totalDefeats (0.072971)\n",
      "5. club (0.072820)\n",
      "6. meanExp (0.071326)\n",
      "7. totalYellowCards (0.068564)\n",
      "8. weight (0.063990)\n",
      "9. totalGoals (0.062407)\n",
      "10. totalGames (0.062315)\n",
      "11. height (0.061289)\n",
      "12. totalVictories (0.059732)\n",
      "13. totalTies (0.057814)\n",
      "14. totalYellowReds (0.026760)\n",
      "15. leagueCountry (0.026679)\n",
      "16. totalRedCards (0.026345)\n",
      "17. position (0.021595)\n"
     ]
    },
    {
     "data": {
      "image/png": "[encoded data removed]",
      "text/plain": [
       "<matplotlib.figure.Figure at 0x1021d06d8>"
      ]
     },
     "metadata": {},
     "output_type": "display_data"
    }
   ],
   "source": [
    "describe_importances(soccer_player_information,y,classifier1)"
   ]
  },
  {
   "cell_type": "markdown",
   "metadata": {},
   "source": [
    "** Classifier 2 ** "
   ]
  },
  {
   "cell_type": "code",
   "execution_count": 30,
   "metadata": {
    "collapsed": false
   },
   "outputs": [
    {
     "name": "stdout",
     "output_type": "stream",
     "text": [
      "Feature ranking:\n",
      "\n",
      "1. seExp (0.300000)\n",
      "2. totalYellowCards (0.200000)\n",
      "3. height (0.100000)\n",
      "4. totalTies (0.100000)\n",
      "5. leagueCountry (0.100000)\n",
      "6. meanExp (0.100000)\n",
      "7. seIAT (0.100000)\n",
      "8. weight (0.000000)\n",
      "9. meanIAT (0.000000)\n",
      "10. position (0.000000)\n",
      "11. totalDefeats (0.000000)\n",
      "12. totalYellowReds (0.000000)\n",
      "13. totalGames (0.000000)\n",
      "14. totalGoals (0.000000)\n",
      "15. totalRedCards (0.000000)\n",
      "16. totalVictories (0.000000)\n",
      "17. club (0.000000)\n"
     ]
    },
    {
     "data": {
      "image/png": "[encoded data removed]",
      "text/plain": [
       "<matplotlib.figure.Figure at 0x11b5307f0>"
      ]
     },
     "metadata": {},
     "output_type": "display_data"
    }
   ],
   "source": [
    "describe_importances(soccer_player_information,y,classifier2)"
   ]
  },
  {
   "cell_type": "markdown",
   "metadata": {},
   "source": [
    "** Classifier 3 **"
   ]
  },
  {
   "cell_type": "code",
   "execution_count": 31,
   "metadata": {
    "collapsed": false
   },
   "outputs": [
    {
     "name": "stdout",
     "output_type": "stream",
     "text": [
      "Feature ranking:\n",
      "\n",
      "1. seExp (0.156625)\n",
      "2. meanIAT (0.137752)\n",
      "3. club (0.117678)\n",
      "4. seIAT (0.105273)\n",
      "5. totalGames (0.071542)\n",
      "6. totalVictories (0.058689)\n",
      "7. totalYellowCards (0.055845)\n",
      "8. leagueCountry (0.055072)\n",
      "9. weight (0.052532)\n",
      "10. meanExp (0.049909)\n",
      "11. totalTies (0.033624)\n",
      "12. position (0.029860)\n",
      "13. totalDefeats (0.026725)\n",
      "14. height (0.026307)\n",
      "15. totalYellowReds (0.017691)\n",
      "16. totalGoals (0.004876)\n",
      "17. totalRedCards (0.000000)\n"
     ]
    },
    {
     "data": {
      "image/png": "[encoded data removed]",
      "text/plain": [
       "<matplotlib.figure.Figure at 0x11b5d8588>"
      ]
     },
     "metadata": {},
     "output_type": "display_data"
    }
   ],
   "source": [
    "describe_importances(soccer_player_information,y,classifier3)"
   ]
  },
  {
   "cell_type": "markdown",
   "metadata": {},
   "source": [
    "An interesting thing is that even if these 2 classifiers achieve the same accuracy, the ranking of the features is not the same and especially their importances. "
   ]
  },
  {
   "cell_type": "markdown",
   "metadata": {},
   "source": [
    "# An other feature selection"
   ]
  },
  {
   "cell_type": "markdown",
   "metadata": {},
   "source": [
    "In this part, we will make other assumptions initial features and will see if there are differences on the accuracy and in in the results of **feature importances**."
   ]
  },
  {
   "cell_type": "code",
   "execution_count": 32,
   "metadata": {
    "collapsed": true
   },
   "outputs": [],
   "source": [
    "player_info2 = soccer_player_information.copy()"
   ]
  },
  {
   "cell_type": "markdown",
   "metadata": {},
   "source": [
    "As we assume that there might be a correlation between **number of yellow-red card**/**skin color**, we thought that the total number of yellow-red card have no sense, since some players have played 2 **Games** and others 100 !\n",
    "Therefore we modify the three **yellow-red Cards** parameter averaging them to have a **\"Cards-per-match\"** parameter."
   ]
  },
  {
   "cell_type": "code",
   "execution_count": 33,
   "metadata": {
    "collapsed": true
   },
   "outputs": [],
   "source": [
    "player_info2['totalRedCards'] = player_info2['totalRedCards']/player_info2['totalGames']\n",
    "player_info2['totalYellowCards'] = player_info2['totalYellowCards']/player_info2['totalGames']\n",
    "player_info2['totalYellowReds'] = player_info2['totalYellowReds']/player_info2['totalGames']"
   ]
  },
  {
   "cell_type": "code",
   "execution_count": 34,
   "metadata": {
    "collapsed": true
   },
   "outputs": [],
   "source": [
    "new_cols = list(player_info2.columns)\n",
    "new_cols[10] = 'RedCard-Per-Match'\n",
    "new_cols[13] = 'YellowCard-Per-Match'\n",
    "new_cols[14] = 'YellowReds-Per-Match'\n",
    "player_info2.columns = new_cols"
   ]
  },
  {
   "cell_type": "code",
   "execution_count": 35,
   "metadata": {
    "collapsed": false
   },
   "outputs": [
    {
     "data": {
      "text/html": [
       "<div>\n",
       "<table border=\"1\" class=\"dataframe\">\n",
       "  <thead>\n",
       "    <tr style=\"text-align: right;\">\n",
       "      <th></th>\n",
       "      <th>club</th>\n",
       "      <th>height</th>\n",
       "      <th>leagueCountry</th>\n",
       "      <th>meanExp</th>\n",
       "      <th>meanIAT</th>\n",
       "      <th>position</th>\n",
       "      <th>seExp</th>\n",
       "      <th>seIAT</th>\n",
       "      <th>totalDefeats</th>\n",
       "      <th>totalGames</th>\n",
       "      <th>RedCard-Per-Match</th>\n",
       "      <th>totalRedCards</th>\n",
       "      <th>totalTies</th>\n",
       "      <th>YellowCard-Per-Match</th>\n",
       "      <th>YellowReds-Per-Match</th>\n",
       "      <th>totalYellowReds</th>\n",
       "      <th>weight</th>\n",
       "    </tr>\n",
       "  </thead>\n",
       "  <tbody>\n",
       "    <tr>\n",
       "      <th>0</th>\n",
       "      <td>49.0</td>\n",
       "      <td>180.0</td>\n",
       "      <td>1.0</td>\n",
       "      <td>0.396648</td>\n",
       "      <td>0.342820</td>\n",
       "      <td>0.0</td>\n",
       "      <td>0.164520</td>\n",
       "      <td>0.021884</td>\n",
       "      <td>41.0</td>\n",
       "      <td>137.0</td>\n",
       "      <td>7.0</td>\n",
       "      <td>0.021898</td>\n",
       "      <td>35.0</td>\n",
       "      <td>61.0</td>\n",
       "      <td>0.211679</td>\n",
       "      <td>0.000000</td>\n",
       "      <td>74.0</td>\n",
       "    </tr>\n",
       "    <tr>\n",
       "      <th>1</th>\n",
       "      <td>6.0</td>\n",
       "      <td>172.0</td>\n",
       "      <td>0.0</td>\n",
       "      <td>0.571166</td>\n",
       "      <td>0.355434</td>\n",
       "      <td>2.0</td>\n",
       "      <td>0.273332</td>\n",
       "      <td>0.033884</td>\n",
       "      <td>72.0</td>\n",
       "      <td>311.0</td>\n",
       "      <td>72.0</td>\n",
       "      <td>0.006431</td>\n",
       "      <td>77.0</td>\n",
       "      <td>162.0</td>\n",
       "      <td>0.093248</td>\n",
       "      <td>0.000000</td>\n",
       "      <td>69.0</td>\n",
       "    </tr>\n",
       "    <tr>\n",
       "      <th>2</th>\n",
       "      <td>10.0</td>\n",
       "      <td>180.0</td>\n",
       "      <td>3.0</td>\n",
       "      <td>0.513491</td>\n",
       "      <td>0.358734</td>\n",
       "      <td>0.0</td>\n",
       "      <td>0.135626</td>\n",
       "      <td>0.023869</td>\n",
       "      <td>113.0</td>\n",
       "      <td>364.0</td>\n",
       "      <td>18.0</td>\n",
       "      <td>0.002747</td>\n",
       "      <td>89.0</td>\n",
       "      <td>162.0</td>\n",
       "      <td>0.167582</td>\n",
       "      <td>0.002747</td>\n",
       "      <td>72.0</td>\n",
       "    </tr>\n",
       "    <tr>\n",
       "      <th>3</th>\n",
       "      <td>65.0</td>\n",
       "      <td>187.0</td>\n",
       "      <td>3.0</td>\n",
       "      <td>0.610543</td>\n",
       "      <td>0.370791</td>\n",
       "      <td>2.0</td>\n",
       "      <td>0.107152</td>\n",
       "      <td>0.008339</td>\n",
       "      <td>60.0</td>\n",
       "      <td>200.0</td>\n",
       "      <td>52.0</td>\n",
       "      <td>0.000000</td>\n",
       "      <td>62.0</td>\n",
       "      <td>78.0</td>\n",
       "      <td>0.040000</td>\n",
       "      <td>0.000000</td>\n",
       "      <td>77.0</td>\n",
       "    </tr>\n",
       "    <tr>\n",
       "      <th>4</th>\n",
       "      <td>27.0</td>\n",
       "      <td>190.0</td>\n",
       "      <td>2.0</td>\n",
       "      <td>0.356839</td>\n",
       "      <td>0.338602</td>\n",
       "      <td>2.0</td>\n",
       "      <td>0.124139</td>\n",
       "      <td>0.011711</td>\n",
       "      <td>77.0</td>\n",
       "      <td>179.0</td>\n",
       "      <td>12.0</td>\n",
       "      <td>0.005587</td>\n",
       "      <td>48.0</td>\n",
       "      <td>54.0</td>\n",
       "      <td>0.212291</td>\n",
       "      <td>0.005587</td>\n",
       "      <td>85.0</td>\n",
       "    </tr>\n",
       "  </tbody>\n",
       "</table>\n",
       "</div>"
      ],
      "text/plain": [
       "   club  height  leagueCountry   meanExp   meanIAT  position     seExp  \\\n",
       "0  49.0   180.0            1.0  0.396648  0.342820       0.0  0.164520   \n",
       "1   6.0   172.0            0.0  0.571166  0.355434       2.0  0.273332   \n",
       "2  10.0   180.0            3.0  0.513491  0.358734       0.0  0.135626   \n",
       "3  65.0   187.0            3.0  0.610543  0.370791       2.0  0.107152   \n",
       "4  27.0   190.0            2.0  0.356839  0.338602       2.0  0.124139   \n",
       "\n",
       "      seIAT  totalDefeats  totalGames  RedCard-Per-Match  totalRedCards  \\\n",
       "0  0.021884          41.0       137.0                7.0       0.021898   \n",
       "1  0.033884          72.0       311.0               72.0       0.006431   \n",
       "2  0.023869         113.0       364.0               18.0       0.002747   \n",
       "3  0.008339          60.0       200.0               52.0       0.000000   \n",
       "4  0.011711          77.0       179.0               12.0       0.005587   \n",
       "\n",
       "   totalTies  YellowCard-Per-Match  YellowReds-Per-Match  totalYellowReds  \\\n",
       "0       35.0                  61.0              0.211679         0.000000   \n",
       "1       77.0                 162.0              0.093248         0.000000   \n",
       "2       89.0                 162.0              0.167582         0.002747   \n",
       "3       62.0                  78.0              0.040000         0.000000   \n",
       "4       48.0                  54.0              0.212291         0.005587   \n",
       "\n",
       "   weight  \n",
       "0    74.0  \n",
       "1    69.0  \n",
       "2    72.0  \n",
       "3    77.0  \n",
       "4    85.0  "
      ]
     },
     "execution_count": 35,
     "metadata": {},
     "output_type": "execute_result"
    }
   ],
   "source": [
    "player_info2.head()"
   ]
  },
  {
   "cell_type": "markdown",
   "metadata": {},
   "source": [
    "We will assume that there is no correlation between **weight**/**skin color**. Same asumption for the **number of victory**, **ties**, **defeat**, **games**, the **club** and the **number of goal** . So we remove all these features."
   ]
  },
  {
   "cell_type": "code",
   "execution_count": 36,
   "metadata": {
    "collapsed": false
   },
   "outputs": [],
   "source": [
    "player_info2 = player_info2.drop(['weight','club','totalDefeats','totalTies', 'totalGames'],axis=1,inplace=False)"
   ]
  },
  {
   "cell_type": "markdown",
   "metadata": {},
   "source": [
    "Using a GridSearch CV that we don't show here to not complicated the Notebook, we find that the best classifier is the following."
   ]
  },
  {
   "cell_type": "code",
   "execution_count": 37,
   "metadata": {
    "collapsed": false
   },
   "outputs": [
    {
     "name": "stdout",
     "output_type": "stream",
     "text": [
      "Best_Classifier\n",
      "Average train accuracy :  0.614629794826\n",
      "Average test accuracy :  0.420338983051\n",
      "Confusion matrix :\n",
      "  [[ 10.9    9.65   0.05   0.1    0.15]\n",
      " [  9.35  12.45   0.15   0.4    0.4 ]\n",
      " [  2.15   3.15   0.05   0.3    0.05]\n",
      " [  1.7    2.25   0.     0.35   0.8 ]\n",
      " [  1.55   1.5    0.15   0.35   1.05]]\n"
     ]
    }
   ],
   "source": [
    "best_classifier = RandomForestClassifier(max_depth = 6, max_features = 8)\n",
    "\n",
    "av_train_acc , av_test_acc, conf_mat = cross_validation(y, player_info2, 20, best_classifier)    \n",
    "     \n",
    "print('Best_Classifier')\n",
    "print('Average train accuracy : ', av_train_acc)\n",
    "print('Average test accuracy : ', av_test_acc)\n",
    "print('Confusion matrix :\\n ', conf_mat)"
   ]
  },
  {
   "cell_type": "markdown",
   "metadata": {},
   "source": [
    "Finally, we reach the same accuracy with 6 features removed, it means that former features where useless. Despite this, this model is still failing with predicting players with skin color >= 0,50. This is certainly due to :\n",
    "- the lack of player of labels >=0.5.\n",
    "- Bad feature selection ?\n",
    "\n",
    "Let's see the feature importance !"
   ]
  },
  {
   "cell_type": "markdown",
   "metadata": {},
   "source": [
    "### Feature Importance"
   ]
  },
  {
   "cell_type": "code",
   "execution_count": 38,
   "metadata": {
    "collapsed": false
   },
   "outputs": [
    {
     "name": "stdout",
     "output_type": "stream",
     "text": [
      "Feature ranking:\n",
      "\n",
      "1. seIAT (0.160394)\n",
      "2. meanIAT (0.113322)\n",
      "3. meanExp (0.108972)\n",
      "4. YellowCard-Per-Match (0.105602)\n",
      "5. seExp (0.103343)\n",
      "6. YellowReds-Per-Match (0.097127)\n",
      "7. height (0.081868)\n",
      "8. leagueCountry (0.067380)\n",
      "9. totalRedCards (0.063372)\n",
      "10. totalYellowReds (0.050100)\n",
      "11. RedCard-Per-Match (0.044503)\n",
      "12. position (0.004017)\n"
     ]
    },
    {
     "data": {
      "image/png": "[encoded data removed]",
      "text/plain": [
       "<matplotlib.figure.Figure at 0x11a8b2f98>"
      ]
     },
     "metadata": {},
     "output_type": "display_data"
    }
   ],
   "source": [
    "describe_importances(player_info2,y,best_classifier)"
   ]
  },
  {
   "cell_type": "markdown",
   "metadata": {},
   "source": [
    "# Bonus Question : Learning Curves "
   ]
  },
  {
   "cell_type": "markdown",
   "metadata": {},
   "source": [
    "Let's plot the learning curves of the classifiers. We have the train error in red and the test error in blue. "
   ]
  },
  {
   "cell_type": "markdown",
   "metadata": {},
   "source": [
    "** Classifier 1 : ** "
   ]
  },
  {
   "cell_type": "code",
   "execution_count": 39,
   "metadata": {
    "collapsed": false
   },
   "outputs": [
    {
     "data": {
      "image/png": "[encoded data removed]",
      "text/plain": [
       "<matplotlib.figure.Figure at 0x1198bb780>"
      ]
     },
     "metadata": {},
     "output_type": "display_data"
    }
   ],
   "source": [
    "learning_curve(soccer_player_information,y,classifier1)"
   ]
  },
  {
   "cell_type": "markdown",
   "metadata": {},
   "source": [
    "High variance phenomenon. We can see that with this optimal classifier, the train accuracy is (not surprisingly) always close to 100%. However, the test accuracy do not go above 50% : one reason can be that the features aren't appropriate for the problem, and don't explain well the skin color. Maybe if we had a uniform distribution of the skin colors, we would see the blue line around 20%. "
   ]
  },
  {
   "cell_type": "markdown",
   "metadata": {},
   "source": [
    "** Classifier 2 : ** "
   ]
  },
  {
   "cell_type": "code",
   "execution_count": 40,
   "metadata": {
    "collapsed": false
   },
   "outputs": [
    {
     "data": {
      "image/png": "[encoded data removed]",
      "text/plain": [
       "<matplotlib.figure.Figure at 0x11adc2160>"
      ]
     },
     "metadata": {},
     "output_type": "display_data"
    }
   ],
   "source": [
    "learning_curve(soccer_player_information,y,classifier2)"
   ]
  },
  {
   "cell_type": "markdown",
   "metadata": {},
   "source": [
    "High Bias phenomenon. As we can see, setting the \"maximum number of leaves\" parameter to 2 lead to a large bias : we start at an already low train accuracy and then it decreases and meet the test accuracy curve around 40%. Again we explain this result by thinking at the distribution of the skin colors."
   ]
  },
  {
   "cell_type": "markdown",
   "metadata": {},
   "source": [
    "** Classifier 3 : ** "
   ]
  },
  {
   "cell_type": "code",
   "execution_count": 41,
   "metadata": {
    "collapsed": false
   },
   "outputs": [
    {
     "data": {
      "image/png": "[encoded data removed]",
      "text/plain": [
       "<matplotlib.figure.Figure at 0x11ade05c0>"
      ]
     },
     "metadata": {},
     "output_type": "display_data"
    }
   ],
   "source": [
    "learning_curve(soccer_player_information,y,classifier3)"
   ]
  },
  {
   "cell_type": "markdown",
   "metadata": {},
   "source": [
    "If we don't let the tree grow, the more samples we have the worse is our train error. Again, it seems that the two curves converge to a certain accuracy explained by the distribution of the skin color."
   ]
  },
  {
   "cell_type": "code",
   "execution_count": 42,
   "metadata": {
    "collapsed": false
   },
   "outputs": [
    {
     "data": {
      "text/plain": [
       "Index(['club', 'height', 'leagueCountry', 'meanExp', 'meanIAT', 'position',\n",
       "       'seExp', 'seIAT', 'totalDefeats', 'totalGames', 'totalGoals',\n",
       "       'totalRedCards', 'totalTies', 'totalVictories', 'totalYellowCards',\n",
       "       'totalYellowReds', 'weight'],\n",
       "      dtype='object')"
      ]
     },
     "execution_count": 42,
     "metadata": {},
     "output_type": "execute_result"
    }
   ],
   "source": [
    "soccer_player_information.columns"
   ]
  },
  {
   "cell_type": "markdown",
   "metadata": {},
   "source": [
    "## Question 2 "
   ]
  },
  {
   "cell_type": "markdown",
   "metadata": {},
   "source": [
    "Again, we use the set of players where the two raters agreed upon the skin color. This time we keep only the referee information (that is, the number of yellow/red cards and the statistical informations about the referees: IAT and Exp) we also add the games satistic informations for the player (number of games, victories, dedeats and ties) and we group it by player. "
   ]
  },
  {
   "cell_type": "code",
   "execution_count": 43,
   "metadata": {
    "collapsed": false
   },
   "outputs": [
    {
     "data": {
      "text/html": [
       "<div>\n",
       "<table border=\"1\" class=\"dataframe\">\n",
       "  <thead>\n",
       "    <tr style=\"text-align: right;\">\n",
       "      <th></th>\n",
       "      <th>totalRedCards</th>\n",
       "      <th>totalYellowCards</th>\n",
       "      <th>totalYellowReds</th>\n",
       "      <th>meanIAT</th>\n",
       "      <th>meanExp</th>\n",
       "      <th>seExp</th>\n",
       "      <th>seIAT</th>\n",
       "      <th>totalGames</th>\n",
       "      <th>totalGoals</th>\n",
       "      <th>totalDefeats</th>\n",
       "      <th>totalTies</th>\n",
       "      <th>totalVictories</th>\n",
       "    </tr>\n",
       "  </thead>\n",
       "  <tbody>\n",
       "    <tr>\n",
       "      <th>0</th>\n",
       "      <td>3.0</td>\n",
       "      <td>29.0</td>\n",
       "      <td>0.0</td>\n",
       "      <td>0.342820</td>\n",
       "      <td>0.396648</td>\n",
       "      <td>0.164520</td>\n",
       "      <td>0.021884</td>\n",
       "      <td>137.0</td>\n",
       "      <td>7.0</td>\n",
       "      <td>41.0</td>\n",
       "      <td>35.0</td>\n",
       "      <td>61.0</td>\n",
       "    </tr>\n",
       "    <tr>\n",
       "      <th>1</th>\n",
       "      <td>2.0</td>\n",
       "      <td>29.0</td>\n",
       "      <td>0.0</td>\n",
       "      <td>0.355434</td>\n",
       "      <td>0.571166</td>\n",
       "      <td>0.273332</td>\n",
       "      <td>0.033884</td>\n",
       "      <td>311.0</td>\n",
       "      <td>72.0</td>\n",
       "      <td>72.0</td>\n",
       "      <td>77.0</td>\n",
       "      <td>162.0</td>\n",
       "    </tr>\n",
       "    <tr>\n",
       "      <th>2</th>\n",
       "      <td>1.0</td>\n",
       "      <td>61.0</td>\n",
       "      <td>1.0</td>\n",
       "      <td>0.358734</td>\n",
       "      <td>0.513491</td>\n",
       "      <td>0.135626</td>\n",
       "      <td>0.023869</td>\n",
       "      <td>364.0</td>\n",
       "      <td>18.0</td>\n",
       "      <td>113.0</td>\n",
       "      <td>89.0</td>\n",
       "      <td>162.0</td>\n",
       "    </tr>\n",
       "    <tr>\n",
       "      <th>3</th>\n",
       "      <td>0.0</td>\n",
       "      <td>8.0</td>\n",
       "      <td>0.0</td>\n",
       "      <td>0.370791</td>\n",
       "      <td>0.610543</td>\n",
       "      <td>0.107152</td>\n",
       "      <td>0.008339</td>\n",
       "      <td>200.0</td>\n",
       "      <td>52.0</td>\n",
       "      <td>60.0</td>\n",
       "      <td>62.0</td>\n",
       "      <td>78.0</td>\n",
       "    </tr>\n",
       "    <tr>\n",
       "      <th>4</th>\n",
       "      <td>1.0</td>\n",
       "      <td>38.0</td>\n",
       "      <td>1.0</td>\n",
       "      <td>0.338602</td>\n",
       "      <td>0.356839</td>\n",
       "      <td>0.124139</td>\n",
       "      <td>0.011711</td>\n",
       "      <td>179.0</td>\n",
       "      <td>12.0</td>\n",
       "      <td>77.0</td>\n",
       "      <td>48.0</td>\n",
       "      <td>54.0</td>\n",
       "    </tr>\n",
       "  </tbody>\n",
       "</table>\n",
       "</div>"
      ],
      "text/plain": [
       "   totalRedCards  totalYellowCards  totalYellowReds   meanIAT   meanExp  \\\n",
       "0            3.0              29.0              0.0  0.342820  0.396648   \n",
       "1            2.0              29.0              0.0  0.355434  0.571166   \n",
       "2            1.0              61.0              1.0  0.358734  0.513491   \n",
       "3            0.0               8.0              0.0  0.370791  0.610543   \n",
       "4            1.0              38.0              1.0  0.338602  0.356839   \n",
       "\n",
       "      seExp     seIAT  totalGames  totalGoals  totalDefeats  totalTies  \\\n",
       "0  0.164520  0.021884       137.0         7.0          41.0       35.0   \n",
       "1  0.273332  0.033884       311.0        72.0          72.0       77.0   \n",
       "2  0.135626  0.023869       364.0        18.0         113.0       89.0   \n",
       "3  0.107152  0.008339       200.0        52.0          60.0       62.0   \n",
       "4  0.124139  0.011711       179.0        12.0          77.0       48.0   \n",
       "\n",
       "   totalVictories  \n",
       "0            61.0  \n",
       "1           162.0  \n",
       "2           162.0  \n",
       "3            78.0  \n",
       "4            54.0  "
      ]
     },
     "execution_count": 43,
     "metadata": {},
     "output_type": "execute_result"
    }
   ],
   "source": [
    "referee_information = soccer_player_information[['totalRedCards','totalYellowCards','totalYellowReds','meanIAT',\n",
    "                                                 'meanExp','seExp','seIAT', 'totalGames', 'totalGoals','totalDefeats',\n",
    "                                                 'totalTies','totalVictories']]\n",
    "\n",
    "referee_information.head()"
   ]
  },
  {
   "cell_type": "markdown",
   "metadata": {},
   "source": [
    "Before doing the clustering, we need do to choose the most appropriate algorithm.\n",
    "Our goal is to obtain 2 clusters representing the skin color of the players, one for white skin and one for black skin. Following the theory, we opted for K-means that allows us to choose the number of clusters.\n",
    "\n",
    "First, we compute the K-means with all the features selected previously."
   ]
  },
  {
   "cell_type": "code",
   "execution_count": 44,
   "metadata": {
    "collapsed": false
   },
   "outputs": [
    {
     "data": {
      "text/plain": [
       "0.54362802668248522"
      ]
     },
     "execution_count": 44,
     "metadata": {},
     "output_type": "execute_result"
    }
   ],
   "source": [
    "kmeans = KMeans(n_clusters=2, random_state=0).fit(referee_information)\n",
    "score = silhouette_score(referee_information, kmeans.labels_)\n",
    "score"
   ]
  },
  {
   "cell_type": "markdown",
   "metadata": {},
   "source": [
    "The score obtained is not very high, thus we will try to find a subset of these features with a higher silhouette score.\n",
    "To do this, we remove iteratively the features.\n",
    "Since we have only 13 features, we will compute the combinations for 12 features and we will perform K-means algorithm with all possible combinations and compute the silhouette score for each configuration and keep the best. At each iteration, we remove the feature that gives the worst silhouette score and do the same thing by decreasing the size of the number of features until we have a subset size of 1.\n",
    "We then store the results in a Pandas series scores_config."
   ]
  },
  {
   "cell_type": "code",
   "execution_count": 45,
   "metadata": {
    "collapsed": false
   },
   "outputs": [],
   "source": [
    "features = ['totalRedCards','totalYellowCards','totalYellowReds','meanIAT',\n",
    "            'meanExp','seExp','seIAT', 'totalGames', 'totalGoals','totalDefeats','totalTies','totalVictories']\n",
    "\n",
    "L = len(features)\n",
    "best_config_per_size = pd.DataFrame(columns=['size','best_config','score'])\n",
    "\n",
    "while L > 0 :    \n",
    "    \n",
    "\n",
    "    best_config = []\n",
    "    best_score = 0\n",
    "    \n",
    "    for config in itertools.combinations(features, L):\n",
    "    \n",
    "        config = list(config)        \n",
    "        kmeans = KMeans(n_clusters=2, random_state=0).fit(referee_information[config])\n",
    "        score = silhouette_score(referee_information[config], kmeans.labels_)\n",
    "        \n",
    "        if(score > best_score) : \n",
    "            \n",
    "            best_config = config\n",
    "            best_score = score\n",
    "        \n",
    "    \n",
    "    temp = {'size' : L , 'best_config' : best_config , 'score' : best_score}    \n",
    "    best_config_per_size = best_config_per_size.append(temp , ignore_index=True) \n",
    "    features = best_config\n",
    "    L = L-1\n",
    "        "
   ]
  },
  {
   "cell_type": "code",
   "execution_count": 46,
   "metadata": {
    "collapsed": false
   },
   "outputs": [
    {
     "data": {
      "text/html": [
       "<div>\n",
       "<table border=\"1\" class=\"dataframe\">\n",
       "  <thead>\n",
       "    <tr style=\"text-align: right;\">\n",
       "      <th></th>\n",
       "      <th>size</th>\n",
       "      <th>best_config</th>\n",
       "      <th>score</th>\n",
       "    </tr>\n",
       "  </thead>\n",
       "  <tbody>\n",
       "    <tr>\n",
       "      <th>0</th>\n",
       "      <td>12.0</td>\n",
       "      <td>[totalRedCards, totalYellowCards, totalYellowR...</td>\n",
       "      <td>0.543628</td>\n",
       "    </tr>\n",
       "    <tr>\n",
       "      <th>1</th>\n",
       "      <td>11.0</td>\n",
       "      <td>[totalRedCards, totalYellowCards, totalYellowR...</td>\n",
       "      <td>0.558838</td>\n",
       "    </tr>\n",
       "    <tr>\n",
       "      <th>2</th>\n",
       "      <td>10.0</td>\n",
       "      <td>[totalRedCards, totalYellowReds, meanIAT, mean...</td>\n",
       "      <td>0.569918</td>\n",
       "    </tr>\n",
       "    <tr>\n",
       "      <th>3</th>\n",
       "      <td>9.0</td>\n",
       "      <td>[totalRedCards, totalYellowReds, meanIAT, mean...</td>\n",
       "      <td>0.580771</td>\n",
       "    </tr>\n",
       "    <tr>\n",
       "      <th>4</th>\n",
       "      <td>8.0</td>\n",
       "      <td>[totalRedCards, totalYellowReds, meanIAT, mean...</td>\n",
       "      <td>0.588249</td>\n",
       "    </tr>\n",
       "    <tr>\n",
       "      <th>5</th>\n",
       "      <td>7.0</td>\n",
       "      <td>[totalRedCards, totalYellowReds, meanIAT, mean...</td>\n",
       "      <td>0.594758</td>\n",
       "    </tr>\n",
       "    <tr>\n",
       "      <th>6</th>\n",
       "      <td>6.0</td>\n",
       "      <td>[totalRedCards, meanIAT, meanExp, seExp, seIAT...</td>\n",
       "      <td>0.594996</td>\n",
       "    </tr>\n",
       "    <tr>\n",
       "      <th>7</th>\n",
       "      <td>5.0</td>\n",
       "      <td>[totalRedCards, meanIAT, meanExp, seExp, seIAT]</td>\n",
       "      <td>0.700274</td>\n",
       "    </tr>\n",
       "    <tr>\n",
       "      <th>8</th>\n",
       "      <td>4.0</td>\n",
       "      <td>[totalRedCards, meanIAT, seExp, seIAT]</td>\n",
       "      <td>0.711583</td>\n",
       "    </tr>\n",
       "    <tr>\n",
       "      <th>9</th>\n",
       "      <td>3.0</td>\n",
       "      <td>[totalRedCards, meanIAT, seIAT]</td>\n",
       "      <td>0.727904</td>\n",
       "    </tr>\n",
       "    <tr>\n",
       "      <th>10</th>\n",
       "      <td>2.0</td>\n",
       "      <td>[totalRedCards, meanIAT]</td>\n",
       "      <td>0.729612</td>\n",
       "    </tr>\n",
       "    <tr>\n",
       "      <th>11</th>\n",
       "      <td>1.0</td>\n",
       "      <td>[totalRedCards]</td>\n",
       "      <td>0.732415</td>\n",
       "    </tr>\n",
       "  </tbody>\n",
       "</table>\n",
       "</div>"
      ],
      "text/plain": [
       "    size                                        best_config     score\n",
       "0   12.0  [totalRedCards, totalYellowCards, totalYellowR...  0.543628\n",
       "1   11.0  [totalRedCards, totalYellowCards, totalYellowR...  0.558838\n",
       "2   10.0  [totalRedCards, totalYellowReds, meanIAT, mean...  0.569918\n",
       "3    9.0  [totalRedCards, totalYellowReds, meanIAT, mean...  0.580771\n",
       "4    8.0  [totalRedCards, totalYellowReds, meanIAT, mean...  0.588249\n",
       "5    7.0  [totalRedCards, totalYellowReds, meanIAT, mean...  0.594758\n",
       "6    6.0  [totalRedCards, meanIAT, meanExp, seExp, seIAT...  0.594996\n",
       "7    5.0    [totalRedCards, meanIAT, meanExp, seExp, seIAT]  0.700274\n",
       "8    4.0             [totalRedCards, meanIAT, seExp, seIAT]  0.711583\n",
       "9    3.0                    [totalRedCards, meanIAT, seIAT]  0.727904\n",
       "10   2.0                           [totalRedCards, meanIAT]  0.729612\n",
       "11   1.0                                    [totalRedCards]  0.732415"
      ]
     },
     "execution_count": 46,
     "metadata": {},
     "output_type": "execute_result"
    }
   ],
   "source": [
    "best_config_per_size"
   ]
  },
  {
   "cell_type": "markdown",
   "metadata": {},
   "source": [
    "We can notice that the top-11 silhouette scores are closed to each others but it seems that the best configuration is when we keep only the features 'RedCards' and 'meanIAT'. Let's take a look at the results : "
   ]
  },
  {
   "cell_type": "code",
   "execution_count": 47,
   "metadata": {
    "collapsed": false
   },
   "outputs": [
    {
     "name": "stderr",
     "output_type": "stream",
     "text": [
      "/Users/selmachraibi/anaconda/lib/python3.5/site-packages/ipykernel/__main__.py:3: SettingWithCopyWarning: \n",
      "A value is trying to be set on a copy of a slice from a DataFrame.\n",
      "Try using .loc[row_indexer,col_indexer] = value instead\n",
      "\n",
      "See the caveats in the documentation: http://pandas.pydata.org/pandas-docs/stable/indexing.html#indexing-view-versus-copy\n",
      "  app.launch_new_instance()\n",
      "/Users/selmachraibi/anaconda/lib/python3.5/site-packages/ipykernel/__main__.py:4: SettingWithCopyWarning: \n",
      "A value is trying to be set on a copy of a slice from a DataFrame.\n",
      "Try using .loc[row_indexer,col_indexer] = value instead\n",
      "\n",
      "See the caveats in the documentation: http://pandas.pydata.org/pandas-docs/stable/indexing.html#indexing-view-versus-copy\n"
     ]
    },
    {
     "data": {
      "text/html": [
       "<div>\n",
       "<table border=\"1\" class=\"dataframe\">\n",
       "  <thead>\n",
       "    <tr style=\"text-align: right;\">\n",
       "      <th></th>\n",
       "      <th>totalRedCards</th>\n",
       "      <th>totalYellowCards</th>\n",
       "      <th>totalYellowReds</th>\n",
       "      <th>meanIAT</th>\n",
       "      <th>meanExp</th>\n",
       "      <th>seExp</th>\n",
       "      <th>seIAT</th>\n",
       "      <th>totalGames</th>\n",
       "      <th>totalGoals</th>\n",
       "      <th>totalDefeats</th>\n",
       "      <th>totalTies</th>\n",
       "      <th>totalVictories</th>\n",
       "      <th>cluster</th>\n",
       "      <th>color_skin</th>\n",
       "    </tr>\n",
       "  </thead>\n",
       "  <tbody>\n",
       "    <tr>\n",
       "      <th>0</th>\n",
       "      <td>3.0</td>\n",
       "      <td>29.0</td>\n",
       "      <td>0.0</td>\n",
       "      <td>0.342820</td>\n",
       "      <td>0.396648</td>\n",
       "      <td>0.164520</td>\n",
       "      <td>0.021884</td>\n",
       "      <td>137.0</td>\n",
       "      <td>7.0</td>\n",
       "      <td>41.0</td>\n",
       "      <td>35.0</td>\n",
       "      <td>61.0</td>\n",
       "      <td>1</td>\n",
       "      <td>2.0</td>\n",
       "    </tr>\n",
       "    <tr>\n",
       "      <th>1</th>\n",
       "      <td>2.0</td>\n",
       "      <td>29.0</td>\n",
       "      <td>0.0</td>\n",
       "      <td>0.355434</td>\n",
       "      <td>0.571166</td>\n",
       "      <td>0.273332</td>\n",
       "      <td>0.033884</td>\n",
       "      <td>311.0</td>\n",
       "      <td>72.0</td>\n",
       "      <td>72.0</td>\n",
       "      <td>77.0</td>\n",
       "      <td>162.0</td>\n",
       "      <td>1</td>\n",
       "      <td>0.0</td>\n",
       "    </tr>\n",
       "    <tr>\n",
       "      <th>2</th>\n",
       "      <td>1.0</td>\n",
       "      <td>61.0</td>\n",
       "      <td>1.0</td>\n",
       "      <td>0.358734</td>\n",
       "      <td>0.513491</td>\n",
       "      <td>0.135626</td>\n",
       "      <td>0.023869</td>\n",
       "      <td>364.0</td>\n",
       "      <td>18.0</td>\n",
       "      <td>113.0</td>\n",
       "      <td>89.0</td>\n",
       "      <td>162.0</td>\n",
       "      <td>0</td>\n",
       "      <td>0.0</td>\n",
       "    </tr>\n",
       "    <tr>\n",
       "      <th>3</th>\n",
       "      <td>0.0</td>\n",
       "      <td>8.0</td>\n",
       "      <td>0.0</td>\n",
       "      <td>0.370791</td>\n",
       "      <td>0.610543</td>\n",
       "      <td>0.107152</td>\n",
       "      <td>0.008339</td>\n",
       "      <td>200.0</td>\n",
       "      <td>52.0</td>\n",
       "      <td>60.0</td>\n",
       "      <td>62.0</td>\n",
       "      <td>78.0</td>\n",
       "      <td>0</td>\n",
       "      <td>0.0</td>\n",
       "    </tr>\n",
       "    <tr>\n",
       "      <th>4</th>\n",
       "      <td>1.0</td>\n",
       "      <td>38.0</td>\n",
       "      <td>1.0</td>\n",
       "      <td>0.338602</td>\n",
       "      <td>0.356839</td>\n",
       "      <td>0.124139</td>\n",
       "      <td>0.011711</td>\n",
       "      <td>179.0</td>\n",
       "      <td>12.0</td>\n",
       "      <td>77.0</td>\n",
       "      <td>48.0</td>\n",
       "      <td>54.0</td>\n",
       "      <td>0</td>\n",
       "      <td>0.0</td>\n",
       "    </tr>\n",
       "  </tbody>\n",
       "</table>\n",
       "</div>"
      ],
      "text/plain": [
       "   totalRedCards  totalYellowCards  totalYellowReds   meanIAT   meanExp  \\\n",
       "0            3.0              29.0              0.0  0.342820  0.396648   \n",
       "1            2.0              29.0              0.0  0.355434  0.571166   \n",
       "2            1.0              61.0              1.0  0.358734  0.513491   \n",
       "3            0.0               8.0              0.0  0.370791  0.610543   \n",
       "4            1.0              38.0              1.0  0.338602  0.356839   \n",
       "\n",
       "      seExp     seIAT  totalGames  totalGoals  totalDefeats  totalTies  \\\n",
       "0  0.164520  0.021884       137.0         7.0          41.0       35.0   \n",
       "1  0.273332  0.033884       311.0        72.0          72.0       77.0   \n",
       "2  0.135626  0.023869       364.0        18.0         113.0       89.0   \n",
       "3  0.107152  0.008339       200.0        52.0          60.0       62.0   \n",
       "4  0.124139  0.011711       179.0        12.0          77.0       48.0   \n",
       "\n",
       "   totalVictories  cluster  color_skin  \n",
       "0            61.0        1         2.0  \n",
       "1           162.0        1         0.0  \n",
       "2           162.0        0         0.0  \n",
       "3            78.0        0         0.0  \n",
       "4            54.0        0         0.0  "
      ]
     },
     "execution_count": 47,
     "metadata": {},
     "output_type": "execute_result"
    }
   ],
   "source": [
    "kmeans = KMeans(n_clusters=2, random_state=0).fit(referee_information[['totalRedCards','meanIAT']])\n",
    "\n",
    "referee_information['cluster'] = kmeans.labels_\n",
    "referee_information['color_skin'] = y\n",
    "referee_information.head()"
   ]
  },
  {
   "cell_type": "markdown",
   "metadata": {},
   "source": [
    "When looking at the result, we understand that the cluster 1 correspond to the players who have a lot of red cards and the cluster 0 to the players who haven't. Let's see the distribution of skin colors in the two clusters : "
   ]
  },
  {
   "cell_type": "markdown",
   "metadata": {},
   "source": [
    "** Number of players in cluster 0 : **"
   ]
  },
  {
   "cell_type": "code",
   "execution_count": 48,
   "metadata": {
    "collapsed": false
   },
   "outputs": [
    {
     "data": {
      "text/plain": [
       "<matplotlib.axes._subplots.AxesSubplot at 0x11ad0a3c8>"
      ]
     },
     "execution_count": 48,
     "metadata": {},
     "output_type": "execute_result"
    },
    {
     "data": {
      "image/png": "[encoded data removed]",
      "text/plain": [
       "<matplotlib.figure.Figure at 0x11ad0af60>"
      ]
     },
     "metadata": {},
     "output_type": "display_data"
    }
   ],
   "source": [
    "referee_information[referee_information['cluster'] == 0]['color_skin'].hist()"
   ]
  },
  {
   "cell_type": "markdown",
   "metadata": {},
   "source": [
    "** Number of players in cluster 1 : **"
   ]
  },
  {
   "cell_type": "code",
   "execution_count": 49,
   "metadata": {
    "collapsed": false
   },
   "outputs": [
    {
     "data": {
      "text/plain": [
       "<matplotlib.axes._subplots.AxesSubplot at 0x11b5930b8>"
      ]
     },
     "execution_count": 49,
     "metadata": {},
     "output_type": "execute_result"
    },
    {
     "data": {
      "image/png": "[encoded data removed]",
      "text/plain": [
       "<matplotlib.figure.Figure at 0x119cd5518>"
      ]
     },
     "metadata": {},
     "output_type": "display_data"
    }
   ],
   "source": [
    "referee_information[referee_information['cluster'] == 1]['color_skin'].hist()"
   ]
  },
  {
   "cell_type": "markdown",
   "metadata": {},
   "source": [
    "From the plots, we can clearly say that skin color does not impact clustering.\n",
    "The proportions seem to be the same independent of skin color. We could conclude that there is no racism here, and that the referees are fair. "
   ]
  },
  {
   "cell_type": "code",
   "execution_count": null,
   "metadata": {
    "collapsed": false
   },
   "outputs": [],
   "source": []
  },
  {
   "cell_type": "code",
   "execution_count": null,
   "metadata": {
    "collapsed": true
   },
   "outputs": [],
   "source": []
  }
 ],
 "metadata": {
  "anaconda-cloud": {},
  "kernelspec": {
   "display_name": "Python [Root]",
   "language": "python",
   "name": "Python [Root]"
  },
  "language_info": {
   "codemirror_mode": {
    "name": "ipython",
    "version": 3
   },
   "file_extension": ".py",
   "mimetype": "text/x-python",
   "name": "python",
   "nbconvert_exporter": "python",
   "pygments_lexer": "ipython3",
   "version": "3.5.2"
  }
 },
 "nbformat": 4,
 "nbformat_minor": 0
}
